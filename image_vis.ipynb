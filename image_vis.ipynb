{
 "cells": [
  {
   "cell_type": "code",
   "execution_count": 13,
   "metadata": {},
   "outputs": [],
   "source": [
    "import numpy as np\n",
    "import os\n",
    "import pandas as pd\n",
    "from PIL import Image\n",
    "from sklearn import preprocessing"
   ]
  },
  {
   "cell_type": "markdown",
   "metadata": {},
   "source": [
    "Function to read the images and convert them to 5D vectors for each pixel:"
   ]
  },
  {
   "cell_type": "code",
   "execution_count": 9,
   "metadata": {},
   "outputs": [],
   "source": [
    "def readImg(imgPath):\n",
    "    img = Image.open(imgPath)\n",
    "    pixels = img.convert('RGB')\n",
    "    colours = np.array(pixels.getdata()).reshape(img.size + (3,))\n",
    "    indicesArray = np.moveaxis(np.indices(img.size), 0, 2)\n",
    "    allArray = np.dstack((indicesArray, colours)).reshape((-1, 5))\n",
    "\n",
    "    df = pd.DataFrame(allArray, columns = ['y', 'x', 'r', 'g', 'b'])\n",
    "    df = df[['x', 'y', 'r', 'g', 'b']]  # reorder columns\n",
    "    return df"
   ]
  },
  {
   "cell_type": "code",
   "execution_count": 10,
   "metadata": {},
   "outputs": [
    {
     "name": "stdout",
     "output_type": "stream",
     "text": [
      "(154401, 5) (154401, 5)\n"
     ]
    }
   ],
   "source": [
    "images = [os.getcwd() + '/Images/42049_colorBird.jpg', os.getcwd() + '/Images/3096_colorPlane.jpg']  # images are in a dir called Images\n",
    "bird = readImg(images[0])\n",
    "plane = readImg(images[1])\n",
    "print(bird.shape, plane.shape)"
   ]
  },
  {
   "cell_type": "code",
   "execution_count": 15,
   "metadata": {},
   "outputs": [
    {
     "data": {
      "text/html": [
       "<div>\n",
       "<style scoped>\n",
       "    .dataframe tbody tr th:only-of-type {\n",
       "        vertical-align: middle;\n",
       "    }\n",
       "\n",
       "    .dataframe tbody tr th {\n",
       "        vertical-align: top;\n",
       "    }\n",
       "\n",
       "    .dataframe thead th {\n",
       "        text-align: right;\n",
       "    }\n",
       "</style>\n",
       "<table border=\"1\" class=\"dataframe\">\n",
       "  <thead>\n",
       "    <tr style=\"text-align: right;\">\n",
       "      <th></th>\n",
       "      <th>x</th>\n",
       "      <th>y</th>\n",
       "      <th>r</th>\n",
       "      <th>g</th>\n",
       "      <th>b</th>\n",
       "    </tr>\n",
       "  </thead>\n",
       "  <tbody>\n",
       "    <tr>\n",
       "      <th>0</th>\n",
       "      <td>0</td>\n",
       "      <td>0</td>\n",
       "      <td>59</td>\n",
       "      <td>87</td>\n",
       "      <td>111</td>\n",
       "    </tr>\n",
       "    <tr>\n",
       "      <th>1</th>\n",
       "      <td>1</td>\n",
       "      <td>0</td>\n",
       "      <td>60</td>\n",
       "      <td>88</td>\n",
       "      <td>112</td>\n",
       "    </tr>\n",
       "    <tr>\n",
       "      <th>2</th>\n",
       "      <td>2</td>\n",
       "      <td>0</td>\n",
       "      <td>61</td>\n",
       "      <td>89</td>\n",
       "      <td>113</td>\n",
       "    </tr>\n",
       "    <tr>\n",
       "      <th>3</th>\n",
       "      <td>3</td>\n",
       "      <td>0</td>\n",
       "      <td>63</td>\n",
       "      <td>91</td>\n",
       "      <td>115</td>\n",
       "    </tr>\n",
       "    <tr>\n",
       "      <th>4</th>\n",
       "      <td>4</td>\n",
       "      <td>0</td>\n",
       "      <td>65</td>\n",
       "      <td>93</td>\n",
       "      <td>117</td>\n",
       "    </tr>\n",
       "  </tbody>\n",
       "</table>\n",
       "</div>"
      ],
      "text/plain": [
       "   x  y   r   g    b\n",
       "0  0  0  59  87  111\n",
       "1  1  0  60  88  112\n",
       "2  2  0  61  89  113\n",
       "3  3  0  63  91  115\n",
       "4  4  0  65  93  117"
      ]
     },
     "execution_count": 15,
     "metadata": {},
     "output_type": "execute_result"
    }
   ],
   "source": [
    "bird.head()"
   ]
  },
  {
   "cell_type": "code",
   "execution_count": 14,
   "metadata": {},
   "outputs": [
    {
     "data": {
      "text/plain": [
       "array([[  0,   0,  59,  87, 111],\n",
       "       [  1,   0,  60,  88, 112],\n",
       "       [  2,   0,  61,  89, 113],\n",
       "       [  3,   0,  63,  91, 115],\n",
       "       [  4,   0,  65,  93, 117]])"
      ]
     },
     "execution_count": 14,
     "metadata": {},
     "output_type": "execute_result"
    }
   ],
   "source": [
    "bird.head().values"
   ]
  },
  {
   "cell_type": "code",
   "execution_count": 17,
   "metadata": {},
   "outputs": [
    {
     "data": {
      "text/html": [
       "<div>\n",
       "<style scoped>\n",
       "    .dataframe tbody tr th:only-of-type {\n",
       "        vertical-align: middle;\n",
       "    }\n",
       "\n",
       "    .dataframe tbody tr th {\n",
       "        vertical-align: top;\n",
       "    }\n",
       "\n",
       "    .dataframe thead th {\n",
       "        text-align: right;\n",
       "    }\n",
       "</style>\n",
       "<table border=\"1\" class=\"dataframe\">\n",
       "  <thead>\n",
       "    <tr style=\"text-align: right;\">\n",
       "      <th></th>\n",
       "      <th>x</th>\n",
       "      <th>y</th>\n",
       "      <th>r</th>\n",
       "      <th>g</th>\n",
       "      <th>b</th>\n",
       "    </tr>\n",
       "  </thead>\n",
       "  <tbody>\n",
       "    <tr>\n",
       "      <th>0</th>\n",
       "      <td>0.000000</td>\n",
       "      <td>0.0</td>\n",
       "      <td>0.241803</td>\n",
       "      <td>0.345238</td>\n",
       "      <td>0.449393</td>\n",
       "    </tr>\n",
       "    <tr>\n",
       "      <th>1</th>\n",
       "      <td>0.003125</td>\n",
       "      <td>0.0</td>\n",
       "      <td>0.245902</td>\n",
       "      <td>0.349206</td>\n",
       "      <td>0.453441</td>\n",
       "    </tr>\n",
       "    <tr>\n",
       "      <th>2</th>\n",
       "      <td>0.006250</td>\n",
       "      <td>0.0</td>\n",
       "      <td>0.250000</td>\n",
       "      <td>0.353175</td>\n",
       "      <td>0.457490</td>\n",
       "    </tr>\n",
       "    <tr>\n",
       "      <th>3</th>\n",
       "      <td>0.009375</td>\n",
       "      <td>0.0</td>\n",
       "      <td>0.258197</td>\n",
       "      <td>0.361111</td>\n",
       "      <td>0.465587</td>\n",
       "    </tr>\n",
       "    <tr>\n",
       "      <th>4</th>\n",
       "      <td>0.012500</td>\n",
       "      <td>0.0</td>\n",
       "      <td>0.266393</td>\n",
       "      <td>0.369048</td>\n",
       "      <td>0.473684</td>\n",
       "    </tr>\n",
       "    <tr>\n",
       "      <th>...</th>\n",
       "      <td>...</td>\n",
       "      <td>...</td>\n",
       "      <td>...</td>\n",
       "      <td>...</td>\n",
       "      <td>...</td>\n",
       "    </tr>\n",
       "    <tr>\n",
       "      <th>154396</th>\n",
       "      <td>0.987500</td>\n",
       "      <td>1.0</td>\n",
       "      <td>0.176230</td>\n",
       "      <td>0.218254</td>\n",
       "      <td>0.222672</td>\n",
       "    </tr>\n",
       "    <tr>\n",
       "      <th>154397</th>\n",
       "      <td>0.990625</td>\n",
       "      <td>1.0</td>\n",
       "      <td>0.184426</td>\n",
       "      <td>0.198413</td>\n",
       "      <td>0.214575</td>\n",
       "    </tr>\n",
       "    <tr>\n",
       "      <th>154398</th>\n",
       "      <td>0.993750</td>\n",
       "      <td>1.0</td>\n",
       "      <td>0.110656</td>\n",
       "      <td>0.111111</td>\n",
       "      <td>0.129555</td>\n",
       "    </tr>\n",
       "    <tr>\n",
       "      <th>154399</th>\n",
       "      <td>0.996875</td>\n",
       "      <td>1.0</td>\n",
       "      <td>0.106557</td>\n",
       "      <td>0.115079</td>\n",
       "      <td>0.153846</td>\n",
       "    </tr>\n",
       "    <tr>\n",
       "      <th>154400</th>\n",
       "      <td>1.000000</td>\n",
       "      <td>1.0</td>\n",
       "      <td>0.381148</td>\n",
       "      <td>0.400794</td>\n",
       "      <td>0.485830</td>\n",
       "    </tr>\n",
       "  </tbody>\n",
       "</table>\n",
       "<p>154401 rows × 5 columns</p>\n",
       "</div>"
      ],
      "text/plain": [
       "               x    y         r         g         b\n",
       "0       0.000000  0.0  0.241803  0.345238  0.449393\n",
       "1       0.003125  0.0  0.245902  0.349206  0.453441\n",
       "2       0.006250  0.0  0.250000  0.353175  0.457490\n",
       "3       0.009375  0.0  0.258197  0.361111  0.465587\n",
       "4       0.012500  0.0  0.266393  0.369048  0.473684\n",
       "...          ...  ...       ...       ...       ...\n",
       "154396  0.987500  1.0  0.176230  0.218254  0.222672\n",
       "154397  0.990625  1.0  0.184426  0.198413  0.214575\n",
       "154398  0.993750  1.0  0.110656  0.111111  0.129555\n",
       "154399  0.996875  1.0  0.106557  0.115079  0.153846\n",
       "154400  1.000000  1.0  0.381148  0.400794  0.485830\n",
       "\n",
       "[154401 rows x 5 columns]"
      ]
     },
     "execution_count": 17,
     "metadata": {},
     "output_type": "execute_result"
    }
   ],
   "source": [
    "vals = bird.values\n",
    "scaler = preprocessing.MinMaxScaler()\n",
    "scaled = scaler.fit_transform(vals)\n",
    "df = pd.DataFrame(scaled, columns = bird.columns)\n",
    "df"
   ]
  }
 ],
 "metadata": {
  "kernelspec": {
   "display_name": "Python 3",
   "language": "python",
   "name": "python3"
  },
  "language_info": {
   "codemirror_mode": {
    "name": "ipython",
    "version": 3
   },
   "file_extension": ".py",
   "mimetype": "text/x-python",
   "name": "python",
   "nbconvert_exporter": "python",
   "pygments_lexer": "ipython3",
   "version": "3.8.2"
  }
 },
 "nbformat": 4,
 "nbformat_minor": 4
}
